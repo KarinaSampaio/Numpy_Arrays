{
 "cells": [
  {
   "metadata": {},
   "cell_type": "markdown",
   "source": "### 01 - Gerar um array de 100 elementos e calcular a mediana correspondente\n",
   "id": "3c69037861f012e9"
  },
  {
   "metadata": {
    "ExecuteTime": {
     "end_time": "2024-06-21T00:38:05.207220Z",
     "start_time": "2024-06-21T00:38:04.993021Z"
    }
   },
   "cell_type": "code",
   "source": [
    "import numpy as np\n",
    "\n",
    "# Gerar um array de 100 elementos aleatórios\n",
    "array_100 = np.random.rand(100) * 100 # Array com números aleatórios entre 0 e 100\n",
    "\n",
    "# Calcular a mediana\n",
    "mediana = np.median(array_100)\n",
    "\n",
    "print(\"Array de 100 elementos: \", array_100)\n",
    "print(\"Mediana do array: \", mediana)"
   ],
   "id": "4dda0c23201e5c98",
   "outputs": [
    {
     "name": "stdout",
     "output_type": "stream",
     "text": [
      "Array de 100 elementos:  [10.98044347 68.222673    8.98303285 84.63426292 54.05325918 12.43643935\n",
      " 94.04489474 23.79412865 29.58022273 37.33450108 75.41874793  3.49841275\n",
      " 13.64663481 88.28147778 55.01502901 71.57080933 42.10458031 73.11540793\n",
      " 56.44694507 37.5207532  31.19874526 15.71109712 52.10896924 51.98726154\n",
      " 40.68835055  9.87626945  6.19546997 12.53757615 98.30513473 33.96883137\n",
      " 23.22218221 25.29306101 45.28179996 99.89279977 21.18398013 21.14852086\n",
      " 82.873643    7.47600227 80.26268241 59.28119776 51.4285403  53.05896526\n",
      "  6.35930553 61.17995129 36.59397868 95.27720689 70.94232386 89.23243287\n",
      "  5.93394746 42.43924554 47.06142254  4.65559647 92.38303889 16.70118749\n",
      "  9.91682422 85.86581515 54.13167528 82.41813698 74.61867846 12.64973186\n",
      " 28.91575395 88.50767887  5.09203046 92.12226899 45.79765382 71.342824\n",
      " 82.56479721 89.13528231  1.89481639 36.29150665 95.94727737 25.13854448\n",
      " 49.98529327 30.01981175 21.22595585 82.4929437  28.59349584 89.00372261\n",
      " 32.09479262 86.50736789 69.36543036 95.08662265 26.24962554 14.01452906\n",
      " 36.64009134 38.70204019 28.70117174 88.49044693 54.3288233  30.04602298\n",
      " 28.74942599 57.62794606 58.29687648 76.94555118 83.54993251 44.01520288\n",
      " 68.43162819 36.89108418 75.3069681  11.37654223]\n",
      "Mediana do array:  45.539726892280726\n"
     ]
    }
   ],
   "execution_count": 1
  },
  {
   "metadata": {},
   "cell_type": "markdown",
   "source": [
    "### 02 - Calcular o fatorial de um número usando NumPy\n",
    "\n",
    "NumPy não tem uma função direta para calcular o fatorial, mas pode ser usada a função numpy.prod() para calcular o produto de uma sequência de números, o que permite calcular o fatorial."
   ],
   "id": "d62d137c6a1ebf3f"
  },
  {
   "metadata": {
    "ExecuteTime": {
     "end_time": "2024-06-21T01:31:03.682507Z",
     "start_time": "2024-06-21T01:31:03.667529Z"
    }
   },
   "cell_type": "code",
   "source": [
    "import numpy as np\n",
    "\n",
    "# Calcular o fatorial de um número\n",
    "def fatorial(n):\n",
    "    return np.prod(np.arange(1, n + 1))\n",
    "\n",
    "# Exemplo de uso\n",
    "numero = 34\n",
    "fatorial_numero = fatorial(numero)\n",
    "print(f\"O fatorial de {numero} é {fatorial_numero}\")\n"
   ],
   "id": "3a05366ba1eeba9",
   "outputs": [
    {
     "name": "stdout",
     "output_type": "stream",
     "text": [
      "O fatorial de 34 é 4926277576697053184\n"
     ]
    }
   ],
   "execution_count": 7
  },
  {
   "metadata": {},
   "cell_type": "markdown",
   "source": [
    "### Calcular a soma de uma série usando NumPy\n",
    "Usando a função numpy.sum() para calcular a soma de uma série de números"
   ],
   "id": "a3456b6438b0fef2"
  },
  {
   "metadata": {
    "ExecuteTime": {
     "end_time": "2024-06-21T01:35:39.958738Z",
     "start_time": "2024-06-21T01:35:39.880679Z"
    }
   },
   "cell_type": "code",
   "source": [
    "import numpy as np\n",
    "\n",
    "# Calcular a soma da série de 1 até N\n",
    "def soma_serie(N):\n",
    "    return np.sum(np.arange(1, N + 1))\n",
    "\n",
    "# Exemplo de uso\n",
    "N = 33\n",
    "soma = soma_serie(N)\n",
    "print(f\"A soma da série de 1 até {N} é {soma}\")"
   ],
   "id": "2044ccf089cbb532",
   "outputs": [
    {
     "name": "stdout",
     "output_type": "stream",
     "text": [
      "A soma da série de 1 até 33 é 561\n"
     ]
    }
   ],
   "execution_count": 8
  },
  {
   "metadata": {},
   "cell_type": "markdown",
   "source": "### Código Completo",
   "id": "bafc97a9f68cf098"
  },
  {
   "metadata": {
    "ExecuteTime": {
     "end_time": "2024-06-21T01:38:10.594253Z",
     "start_time": "2024-06-21T01:38:08.667219Z"
    }
   },
   "cell_type": "code",
   "source": [
    "import numpy as np\n",
    "\n",
    "# Parte 1: Gerar um array de 100 elementos e calcular a mediana correspondente\n",
    "array_100 = np.random.rand(100) * 100  # Array com números aleatórios entre 0 e 100\n",
    "mediana = np.median(array_100)\n",
    "print(\"Array de 100 elementos:\", array_100)\n",
    "print(\"Mediana do array:\", mediana)\n",
    "\n",
    "# Parte 2: Calcular o fatorial de um número usando NumPy\n",
    "def fatorial(n):\n",
    "    return np.prod(np.arange(1, n + 1))\n",
    "\n",
    "# Exemplo de uso\n",
    "numero = 5\n",
    "fatorial_numero = fatorial(numero)\n",
    "print(f\"O fatorial de {numero} é {fatorial_numero}\")\n",
    "\n",
    "# Parte 3: Calcular a soma de uma série usando NumPy\n",
    "def soma_serie(N):\n",
    "    return np.sum(np.arange(1, N + 1))\n",
    "\n",
    "# Exemplo de uso\n",
    "N = 10\n",
    "soma = soma_serie(N)\n",
    "print(f\"A soma da série de 1 até {N} é {soma}\")\n"
   ],
   "id": "db63b690d573298a",
   "outputs": [
    {
     "name": "stdout",
     "output_type": "stream",
     "text": [
      "Array de 100 elementos: [18.04632743 73.01210078 39.49906501 15.54153916 32.09622274 32.50810958\n",
      "  2.57799494 83.03140549 34.40569378 83.05994986 44.08801925  4.70640531\n",
      " 43.42709489  2.39688813 80.57824858 63.57881198 36.62454557 43.85349289\n",
      " 41.01807305 29.42398559 52.19148762 88.63997966 52.85604802 30.25710959\n",
      " 67.84081375 40.44709112 17.06892199  9.95564561 78.44936811 90.35029451\n",
      "  3.47110375 66.34288356 45.6803987  90.94199452 14.34673275 13.77217524\n",
      " 40.8897908  21.23364062 51.06307175 89.79707687 66.89944197 16.77601952\n",
      " 84.45520392 92.49976177 11.38120822 20.75091106 91.2484251  13.78547603\n",
      " 25.6956464  61.96916488 35.87639053 67.2191861  58.1442195  61.39569772\n",
      " 24.99822576 84.28298748 87.09384715 42.76258254  7.42743111 61.88141777\n",
      "  2.4533269  67.28891751 53.48719773 92.07961148 18.94533749  3.99565614\n",
      "  2.2647654  59.77131589 24.74783137 72.28187062 82.64128375 21.83483044\n",
      " 21.64517017 81.97821334 68.33751439 82.57747447 38.91906126 13.42047207\n",
      " 66.12898155 55.47025637 54.26315216 69.39881176 52.14228826 43.63472419\n",
      " 90.02104693 65.20607916 90.36665428 41.49740339  0.52983698 73.49892048\n",
      " 41.02587267 48.37215853 83.62435952 45.49780175 92.14462508 36.54466387\n",
      " 89.29009426 45.1182006  13.29523587  6.36667893]\n",
      "Mediana do array: 45.30800117511767\n",
      "O fatorial de 5 é 120\n",
      "A soma da série de 1 até 10 é 55\n"
     ]
    }
   ],
   "execution_count": 9
  },
  {
   "metadata": {},
   "cell_type": "code",
   "outputs": [],
   "execution_count": null,
   "source": "",
   "id": "4ba9802635413aa4"
  }
 ],
 "metadata": {
  "kernelspec": {
   "display_name": "Python 3",
   "language": "python",
   "name": "python3"
  },
  "language_info": {
   "codemirror_mode": {
    "name": "ipython",
    "version": 2
   },
   "file_extension": ".py",
   "mimetype": "text/x-python",
   "name": "python",
   "nbconvert_exporter": "python",
   "pygments_lexer": "ipython2",
   "version": "2.7.6"
  }
 },
 "nbformat": 4,
 "nbformat_minor": 5
}
